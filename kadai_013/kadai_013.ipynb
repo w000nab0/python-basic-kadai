{
  "nbformat": 4,
  "nbformat_minor": 0,
  "metadata": {
    "colab": {
      "provenance": []
    },
    "kernelspec": {
      "name": "python3",
      "display_name": "Python 3"
    },
    "language_info": {
      "name": "python"
    }
  },
  "cells": [
    {
      "cell_type": "code",
      "execution_count": 9,
      "metadata": {
        "colab": {
          "base_uri": "https://localhost:8080/"
        },
        "id": "9fpMSpWdS8VA",
        "outputId": "af1efec5-2800-4da0-d439-2169274a67a9"
      },
      "outputs": [
        {
          "output_type": "stream",
          "name": "stdout",
          "text": [
            "1210.0円\n"
          ]
        }
      ],
      "source": [
        "def calculate_total(price,tax):\n",
        "\n",
        "  total_price = price + price*100/tax\n",
        "  return total_price\n",
        "\n",
        "calculate_total(110,10)\n",
        "print (f\"{total_price}円\")"
      ]
    }
  ]
}