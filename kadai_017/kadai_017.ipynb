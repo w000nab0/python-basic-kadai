{
  "nbformat": 4,
  "nbformat_minor": 0,
  "metadata": {
    "colab": {
      "provenance": []
    },
    "kernelspec": {
      "name": "python3",
      "display_name": "Python 3"
    },
    "language_info": {
      "name": "python"
    }
  },
  "cells": [
    {
      "cell_type": "code",
      "execution_count": 11,
      "metadata": {
        "colab": {
          "base_uri": "https://localhost:8080/"
        },
        "id": "81y6vTraja9Z",
        "outputId": "4659f0fa-4f65-4f5d-f0dd-eb4077c7da6d"
      },
      "outputs": [
        {
          "output_type": "stream",
          "name": "stdout",
          "text": [
            "Aさんは大人です。\n",
            "Bさんは大人ではありません。\n",
            "Cさんは大人です。\n",
            "Dさんは大人です。\n",
            "Eさんは大人ではありません。\n",
            "Fさんは大人です。\n"
          ]
        }
      ],
      "source": [
        "class Human:\n",
        "    def __init__(self,name,age):\n",
        "        # 属性を定義する\n",
        "        self.name = name\n",
        "        self.age = age\n",
        "\n",
        "    def check_adult(self):\n",
        "      if self.age >= 20:\n",
        "        print(f\"{self.name}は大人です。\")\n",
        "      else:\n",
        "        print(f\"{self.name}は大人ではありません。\")\n",
        "\n",
        "human_A = Human(\"Aさん\",50)\n",
        "human_B = Human(\"Bさん\",10)\n",
        "human_C = Human(\"Cさん\",25)\n",
        "human_D = Human(\"Dさん\",30)\n",
        "human_E = Human(\"Eさん\",12)\n",
        "human_F = Human(\"Fさん\",20)\n",
        "\n",
        "humans = [human_A,human_B,human_C,human_D,human_E,human_F]\n",
        "\n",
        "\n",
        "\n",
        "for human in humans:\n",
        "  human.check_adult()\n",
        "\n"
      ]
    }
  ]
}