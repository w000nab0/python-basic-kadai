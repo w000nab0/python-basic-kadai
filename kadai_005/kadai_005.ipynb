{
  "nbformat": 4,
  "nbformat_minor": 0,
  "metadata": {
    "colab": {
      "provenance": [],
      "toc_visible": true
    },
    "kernelspec": {
      "name": "python3",
      "display_name": "Python 3"
    },
    "language_info": {
      "name": "python"
    }
  },
  "cells": [
    {
      "cell_type": "code",
      "execution_count": 10,
      "metadata": {
        "colab": {
          "base_uri": "https://localhost:8080/"
        },
        "id": "VvyfJv1oezsy",
        "outputId": "2b5288c3-ad2a-4eac-b18e-445cdcc5e90c"
      },
      "outputs": [
        {
          "output_type": "stream",
          "name": "stdout",
          "text": [
            "75.0cm²\n"
          ]
        }
      ],
      "source": [
        "top_length = 10\n",
        "btm_length = 20\n",
        "height = 5\n",
        "\n",
        "cal_result = (top_length + btm_length) * height / 2\n",
        "\n",
        "  #上辺：10cm\n",
        "  #下辺：20cm\n",
        "  #高さ：5cm\n",
        "\n",
        "  #公式：台形の面積 =（上辺＋下辺）× 高さ ÷ 2\n",
        "\n",
        "print(str(cal_result) + \"cm²\")"
      ]
    }
  ]
}