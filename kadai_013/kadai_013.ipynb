{
  "nbformat": 4,
  "nbformat_minor": 0,
  "metadata": {
    "colab": {
      "provenance": []
    },
    "kernelspec": {
      "name": "python3",
      "display_name": "Python 3"
    },
    "language_info": {
      "name": "python"
    }
  },
  "cells": [
    {
      "cell_type": "code",
      "execution_count": 1,
      "metadata": {
        "colab": {
          "base_uri": "https://localhost:8080/"
        },
        "id": "9fpMSpWdS8VA",
        "outputId": "46d158ae-a44e-4b50-dcf8-3344e6bd8a76"
      },
      "outputs": [
        {
          "output_type": "stream",
          "name": "stdout",
          "text": [
            "120円\n"
          ]
        }
      ],
      "source": [
        "def calculate_total(price,tax):\n",
        "\n",
        "  total_price = price + tax\n",
        "  print(f\"{total_price}円\")\n",
        "\n",
        "calculate_total(110,10)"
      ]
    }
  ]
}