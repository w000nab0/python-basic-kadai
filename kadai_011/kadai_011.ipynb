{
  "nbformat": 4,
  "nbformat_minor": 0,
  "metadata": {
    "colab": {
      "provenance": []
    },
    "kernelspec": {
      "name": "python3",
      "display_name": "Python 3"
    },
    "language_info": {
      "name": "python"
    }
  },
  "cells": [
    {
      "cell_type": "code",
      "execution_count": 23,
      "metadata": {
        "colab": {
          "base_uri": "https://localhost:8080/"
        },
        "id": "NrLrIC8guT9O",
        "outputId": "5ac6988d-9c7f-4c8f-d7f4-1e946d76150f"
      },
      "outputs": [
        {
          "output_type": "stream",
          "name": "stdout",
          "text": [
            "以下はfor文の記述です\n",
            "水\n",
            "金\n",
            "地\n",
            "火\n",
            "木\n",
            "土\n",
            "天\n",
            "海\n",
            "冥\n",
            "水\n",
            "金\n",
            "地\n",
            "火\n",
            "木\n",
            "土\n",
            "天\n",
            "海\n",
            "冥\n",
            "\n",
            "以下はwhile文の記述です\n",
            "水\n",
            "金\n",
            "地\n",
            "火\n",
            "木\n",
            "土\n",
            "天\n",
            "海\n",
            "冥\n",
            "水\n",
            "金\n",
            "地\n",
            "火\n",
            "木\n",
            "土\n",
            "天\n",
            "海\n",
            "冥\n"
          ]
        }
      ],
      "source": [
        "array = [\"水\",\"金\",\"地\",\"火\",\"木\",\"土\",\"天\",\"海\",\"冥\"]\n",
        "\n",
        "print(\"以下はfor文の記述です\")\n",
        "\n",
        "for i in array:\n",
        "  print(i)\n",
        "for i in array:\n",
        "  print(i)\n",
        "\n",
        "print(\"\")\n",
        "print(\"以下はwhile文の記述です\")\n",
        "\n",
        "index = 0\n",
        "while index != 9:\n",
        "  print(array[index])\n",
        "  index = index+1\n",
        "index = 0\n",
        "while index != 9:\n",
        "  print(array[index])\n",
        "  index = index+1\n",
        "\n"
      ]
    }
  ]
}